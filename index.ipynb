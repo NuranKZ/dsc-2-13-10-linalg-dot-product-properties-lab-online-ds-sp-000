{
 "cells": [
  {
   "cell_type": "markdown",
   "metadata": {
    "toc": true
   },
   "source": [
    "<h1>Table of Contents<span class=\"tocSkip\"></span></h1>\n",
    "<div class=\"toc\"><ul class=\"toc-item\"><li><span><a href=\"#Introduction\" data-toc-modified-id=\"Introduction-1\"><span class=\"toc-item-num\">1&nbsp;&nbsp;</span>Introduction</a></span></li><li><span><a href=\"#Objectives\" data-toc-modified-id=\"Objectives-2\"><span class=\"toc-item-num\">2&nbsp;&nbsp;</span>Objectives</a></span></li><li><span><a href=\"#Instructions\" data-toc-modified-id=\"Instructions-3\"><span class=\"toc-item-num\">3&nbsp;&nbsp;</span>Instructions</a></span></li><li><span><a href=\"#Distributive-Property---Matrices-multiplication-is-distributive\" data-toc-modified-id=\"Distributive-Property---Matrices-multiplication-is-distributive-4\"><span class=\"toc-item-num\">4&nbsp;&nbsp;</span>Distributive Property - Matrices multiplication is distributive</a></span><ul class=\"toc-item\"><li><span><a href=\"#Prove-that-A.(B+C)=A.B+A.C\" data-toc-modified-id=\"Prove-that-A.(B+C)=A.B+A.C-4.1\"><span class=\"toc-item-num\">4.1&nbsp;&nbsp;</span>Prove that A.(B+C)=A.B+A.C</a></span></li></ul></li><li><span><a href=\"#Associative-Property---Matrices-multiplication-is-associative\" data-toc-modified-id=\"Associative-Property---Matrices-multiplication-is-associative-5\"><span class=\"toc-item-num\">5&nbsp;&nbsp;</span>Associative Property - Matrices multiplication is associative</a></span><ul class=\"toc-item\"><li><span><a href=\"#Prove-that-A.(B.C)=(A.B).C\" data-toc-modified-id=\"Prove-that-A.(B.C)=(A.B).C-5.1\"><span class=\"toc-item-num\">5.1&nbsp;&nbsp;</span>Prove that A.(B.C)=(A.B).C</a></span></li></ul></li><li><span><a href=\"#Commutative-Property---Matrix-multiplication-is-NOT-commutative\" data-toc-modified-id=\"Commutative-Property---Matrix-multiplication-is-NOT-commutative-6\"><span class=\"toc-item-num\">6&nbsp;&nbsp;</span>Commutative Property - Matrix multiplication is NOT commutative</a></span><ul class=\"toc-item\"><li><span><a href=\"#Prove-that-for-matrices,-A.B-≠-B.A\" data-toc-modified-id=\"Prove-that-for-matrices,-A.B-≠-B.A-6.1\"><span class=\"toc-item-num\">6.1&nbsp;&nbsp;</span>Prove that for matrices, A.B ≠ B.A</a></span></li></ul></li><li><span><a href=\"#Commutative-Property----vector-multiplication-IS-commutative\" data-toc-modified-id=\"Commutative-Property----vector-multiplication-IS-commutative-7\"><span class=\"toc-item-num\">7&nbsp;&nbsp;</span>Commutative Property -  vector multiplication IS commutative</a></span><ul class=\"toc-item\"><li><span><a href=\"#Prove-that-for-vectors,-xT-.-y-=-yT-.-x\" data-toc-modified-id=\"Prove-that-for-vectors,-xT-.-y-=-yT-.-x-7.1\"><span class=\"toc-item-num\">7.1&nbsp;&nbsp;</span>Prove that for vectors, x<sup>T</sup> . y = y<sup>T</sup> . x</a></span><ul class=\"toc-item\"><li><span><a href=\"#and-finally\" data-toc-modified-id=\"and-finally-7.1.1\"><span class=\"toc-item-num\">7.1.1&nbsp;&nbsp;</span>and finally</a></span></li></ul></li></ul></li><li><span><a href=\"#Simplification-of-the-matrix-product\" data-toc-modified-id=\"Simplification-of-the-matrix-product-8\"><span class=\"toc-item-num\">8&nbsp;&nbsp;</span>Simplification of the matrix product</a></span><ul class=\"toc-item\"><li><span><a href=\"#Prove-that--(A.B)T-=-BT-.-AT\" data-toc-modified-id=\"Prove-that--(A.B)T-=-BT-.-AT-8.1\"><span class=\"toc-item-num\">8.1&nbsp;&nbsp;</span>Prove that  (A.B)<sup>T</sup> = B<sup>T</sup> . A<sup>T</sup></a></span></li></ul></li><li><span><a href=\"#Summary\" data-toc-modified-id=\"Summary-9\"><span class=\"toc-item-num\">9&nbsp;&nbsp;</span>Summary</a></span></li></ul></div>"
   ]
  },
  {
   "cell_type": "markdown",
   "metadata": {},
   "source": [
    "# Properties of Dot Product - Lab"
   ]
  },
  {
   "cell_type": "markdown",
   "metadata": {},
   "source": [
    "## Introduction\n",
    "\n",
    "In this lab we shall look at some interesting properties of a Dot product type matrix multiplication. Understanding these properties will become useful as we move forward with machine learning advanced linear algebra. The lab will require you to calculate results to provide a proof for these properties.\n",
    "\n",
    "## Objectives\n",
    "You will be able to:\n",
    "* Understand and analytically explain Distributive, Commutative and Associative properties of dot product\n",
    "\n",
    "## Instructions\n",
    "\n",
    "* For each property, create suitably sized matrices with random data and prove the equations \n",
    "* Ensure that size/dimension assumptions are met while performing calculations (you'll see errors otherwise)\n",
    "* Calculate the LHS and RHS for all equations and show if they are equal or not"
   ]
  },
  {
   "cell_type": "markdown",
   "metadata": {},
   "source": [
    "## Distributive Property - Matrices multiplication is distributive\n",
    "### Prove that A.(B+C)=A.B+A.C"
   ]
  },
  {
   "cell_type": "code",
   "execution_count": 35,
   "metadata": {},
   "outputs": [
    {
     "data": {
      "text/plain": [
       "array([[ 84,  62,  98],\n",
       "       [ 15,  18,  28],\n",
       "       [102,  54,  89]])"
      ]
     },
     "metadata": {},
     "output_type": "display_data"
    },
    {
     "data": {
      "text/plain": [
       "array([[ 84,  62,  98],\n",
       "       [ 15,  18,  28],\n",
       "       [102,  54,  89]])"
      ]
     },
     "metadata": {},
     "output_type": "display_data"
    },
    {
     "data": {
      "text/plain": [
       "array([[ True,  True,  True],\n",
       "       [ True,  True,  True],\n",
       "       [ True,  True,  True]])"
      ]
     },
     "execution_count": 35,
     "metadata": {},
     "output_type": "execute_result"
    }
   ],
   "source": [
    "# Your code here\n",
    "import numpy as np\n",
    "A = np.zeros(shape=(3,3),dtype=int)\n",
    "B = np.zeros(shape=(3,3),dtype=int)\n",
    "C = np.zeros(shape=(3,3),dtype=int)\n",
    "for matrix in (A,B,C):\n",
    "    for row in range(len(matrix)):\n",
    "        for el in range(len(matrix[row])):\n",
    "            matrix[row, el] = np.random.randint(0, 9)\n",
    "        \n",
    "D1 = A.dot(B+C)\n",
    "D2 = A.dot(B)+A.dot(C)\n",
    "display(D1)\n",
    "display(D2)\n",
    "D1 == D2"
   ]
  },
  {
   "cell_type": "markdown",
   "metadata": {},
   "source": [
    "## Associative Property - Matrices multiplication is associative\n",
    "### Prove that A.(B.C)=(A.B).C"
   ]
  },
  {
   "cell_type": "code",
   "execution_count": 38,
   "metadata": {},
   "outputs": [
    {
     "data": {
      "text/plain": [
       "array([[330, 518, 378],\n",
       "       [ 61, 161,  77],\n",
       "       [398, 448, 436]])"
      ]
     },
     "metadata": {},
     "output_type": "display_data"
    },
    {
     "data": {
      "text/plain": [
       "array([[330, 518, 378],\n",
       "       [ 61, 161,  77],\n",
       "       [398, 448, 436]])"
      ]
     },
     "metadata": {},
     "output_type": "display_data"
    },
    {
     "data": {
      "text/plain": [
       "array([[ True,  True,  True],\n",
       "       [ True,  True,  True],\n",
       "       [ True,  True,  True]])"
      ]
     },
     "execution_count": 38,
     "metadata": {},
     "output_type": "execute_result"
    }
   ],
   "source": [
    "# Your code here \n",
    "D1 = A.dot(B.dot(C))\n",
    "D2 = (A.dot(B)).dot(C)\n",
    "D3 = A.dot(B).dot(C)\n",
    "display(D1)\n",
    "display(D2)\n",
    "\n",
    "D1 == D2"
   ]
  },
  {
   "cell_type": "markdown",
   "metadata": {},
   "source": [
    "## Commutative Property - Matrix multiplication is NOT commutative\n",
    "### Prove that for matrices, A.B ≠ B.A"
   ]
  },
  {
   "cell_type": "code",
   "execution_count": 39,
   "metadata": {},
   "outputs": [
    {
     "data": {
      "text/plain": [
       "array([[False, False, False],\n",
       "       [False, False, False],\n",
       "       [False, False, False]])"
      ]
     },
     "execution_count": 39,
     "metadata": {},
     "output_type": "execute_result"
    }
   ],
   "source": [
    "# Your code here \n",
    "D1 = A.dot(B)\n",
    "D2 = B.dot(A)\n",
    "D1 == D2"
   ]
  },
  {
   "cell_type": "markdown",
   "metadata": {},
   "source": [
    "## Commutative Property -  vector multiplication IS commutative\n",
    "### Prove that for vectors, x<sup>T</sup> . y = y<sup>T</sup> . x\n",
    "Note: superscipt<sup>T</sup> denotes the transpose we saw earlier"
   ]
  },
  {
   "cell_type": "code",
   "execution_count": 48,
   "metadata": {},
   "outputs": [
    {
     "data": {
      "text/plain": [
       "True"
      ]
     },
     "execution_count": 48,
     "metadata": {},
     "output_type": "execute_result"
    }
   ],
   "source": [
    "# Your code here \n",
    "v1 = A[0]\n",
    "v2 = A[1]\n",
    "v1.T.dot(v2) == v2.T.dot(v1)\n"
   ]
  },
  {
   "cell_type": "markdown",
   "metadata": {},
   "source": [
    "#### and finally \n",
    "## Simplification of the matrix product\n",
    "### Prove that  (A.B)<sup>T</sup> = B<sup>T</sup> . A<sup>T</sup>"
   ]
  },
  {
   "cell_type": "code",
   "execution_count": 49,
   "metadata": {},
   "outputs": [
    {
     "data": {
      "text/plain": [
       "array([[60, 11, 73],\n",
       "       [34,  4, 47],\n",
       "       [74, 23, 64]])"
      ]
     },
     "metadata": {},
     "output_type": "display_data"
    },
    {
     "data": {
      "text/plain": [
       "array([[60, 11, 73],\n",
       "       [34,  4, 47],\n",
       "       [74, 23, 64]])"
      ]
     },
     "metadata": {},
     "output_type": "display_data"
    },
    {
     "data": {
      "text/plain": [
       "array([[ True,  True,  True],\n",
       "       [ True,  True,  True],\n",
       "       [ True,  True,  True]])"
      ]
     },
     "execution_count": 49,
     "metadata": {},
     "output_type": "execute_result"
    }
   ],
   "source": [
    "# Your code here \n",
    "D1 = (A.dot(B)).T\n",
    "D2 = (B.T).dot(A.T)\n",
    "display(D1)\n",
    "display(D2)\n",
    "D1==D2"
   ]
  },
  {
   "cell_type": "markdown",
   "metadata": {},
   "source": [
    "## Summary \n",
    "\n",
    "So now we have seen enough matrix algebra to help us solve a problem of linear equations as we saw earlier in this section. We shall see how to do this next. "
   ]
  }
 ],
 "metadata": {
  "kernelspec": {
   "display_name": "Python 3",
   "language": "python",
   "name": "python3"
  },
  "language_info": {
   "codemirror_mode": {
    "name": "ipython",
    "version": 3
   },
   "file_extension": ".py",
   "mimetype": "text/x-python",
   "name": "python",
   "nbconvert_exporter": "python",
   "pygments_lexer": "ipython3",
   "version": "3.7.1"
  },
  "toc": {
   "base_numbering": 1,
   "nav_menu": {},
   "number_sections": true,
   "sideBar": true,
   "skip_h1_title": true,
   "title_cell": "Table of Contents",
   "title_sidebar": "Contents",
   "toc_cell": true,
   "toc_position": {},
   "toc_section_display": true,
   "toc_window_display": false
  },
  "varInspector": {
   "cols": {
    "lenName": 16,
    "lenType": 16,
    "lenVar": 40
   },
   "kernels_config": {
    "python": {
     "delete_cmd_postfix": "",
     "delete_cmd_prefix": "del ",
     "library": "var_list.py",
     "varRefreshCmd": "print(var_dic_list())"
    },
    "r": {
     "delete_cmd_postfix": ") ",
     "delete_cmd_prefix": "rm(",
     "library": "var_list.r",
     "varRefreshCmd": "cat(var_dic_list()) "
    }
   },
   "types_to_exclude": [
    "module",
    "function",
    "builtin_function_or_method",
    "instance",
    "_Feature"
   ],
   "window_display": false
  }
 },
 "nbformat": 4,
 "nbformat_minor": 2
}
